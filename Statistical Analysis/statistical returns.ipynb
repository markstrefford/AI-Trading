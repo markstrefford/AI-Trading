{
 "cells": [
  {
   "cell_type": "code",
   "execution_count": 4,
   "id": "ed1dddbc-5483-4b78-8ca0-52fa89b11455",
   "metadata": {},
   "outputs": [
    {
     "name": "stdout",
     "output_type": "stream",
     "text": [
      "2.1.0\n"
     ]
    }
   ],
   "source": [
    "import pandas as pd\n",
    "import numpy as np\n",
    "import scipy.stats as stats\n"
   ]
  },
  {
   "cell_type": "code",
   "execution_count": 31,
   "id": "5f1d384a-f360-4c55-88c9-2aadeabab70d",
   "metadata": {},
   "outputs": [],
   "source": [
    "def analyze_returns(net_returns):\n",
    "    \"\"\"\n",
    "    Perform a t-test, with the null hypothesis being that the mean return is zero.\n",
    "    \n",
    "    Parameters\n",
    "    ----------\n",
    "    net_returns : Pandas Series\n",
    "        A Pandas Series for each date\n",
    "    \n",
    "    Returns\n",
    "    -------\n",
    "    t_value\n",
    "        t-statistic from t-test\n",
    "    p_value\n",
    "        Corresponding p-value\n",
    "    \"\"\"\n",
    "    # TODO: Perform one-tailed t-test on net_returns\n",
    "    # Hint: You can use stats.ttest_1samp() to perform the test.\n",
    "    #       However, this performs a two-tailed t-test.\n",
    "    #       You'll need to divde the p-value by 2 to get the results of a one-tailed p-value.\n",
    "    null_hypothesis = 0.0\n",
    "    t_stat, p_val = stats.ttest_1samp(net_returns, null_hypothesis)\n",
    "    p_val /= 2\n",
    "    print(f\"t_stat={t_stat}, p_val={p_val}\")\n",
    "    return t_stat, p_val\n"
   ]
  },
  {
   "cell_type": "code",
   "execution_count": 32,
   "id": "39168dc9-2d30-4fac-9d02-3b8243f7dde8",
   "metadata": {},
   "outputs": [
    {
     "name": "stdout",
     "output_type": "stream",
     "text": [
      "t_stat=0.7596352254139472, p_val=0.2266055082046241\n",
      "t-statistic: 0.760\n",
      "p-value: 0.226606\n"
     ]
    }
   ],
   "source": [
    "def test_run(filename='net_returns.csv'):\n",
    "    \"\"\"Test run analyze_returns() with net strategy returns from a file.\"\"\"\n",
    "    net_returns = pd.read_csv(filename, usecols=['return']).squeeze()\n",
    "    # print(analyze_returns(net_returns))\n",
    "    t, p = analyze_returns(net_returns)\n",
    "    print(\"t-statistic: {:.3f}\\np-value: {:.6f}\".format(t, p))\n",
    "\n",
    "if __name__ == '__main__':\n",
    "    test_run()"
   ]
  },
  {
   "cell_type": "code",
   "execution_count": null,
   "id": "f7c247ba-4278-41ac-b409-c936a3763d56",
   "metadata": {},
   "outputs": [],
   "source": []
  },
  {
   "cell_type": "code",
   "execution_count": null,
   "id": "32482c08-464d-435e-86a4-faf2794171a5",
   "metadata": {},
   "outputs": [],
   "source": []
  }
 ],
 "metadata": {
  "kernelspec": {
   "display_name": "Python 3 (ipykernel)",
   "language": "python",
   "name": "python3"
  },
  "language_info": {
   "codemirror_mode": {
    "name": "ipython",
    "version": 3
   },
   "file_extension": ".py",
   "mimetype": "text/x-python",
   "name": "python",
   "nbconvert_exporter": "python",
   "pygments_lexer": "ipython3",
   "version": "3.11.5"
  }
 },
 "nbformat": 4,
 "nbformat_minor": 5
}
